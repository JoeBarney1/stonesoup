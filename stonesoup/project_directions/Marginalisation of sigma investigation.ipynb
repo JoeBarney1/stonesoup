{
 "cells": [
  {
   "cell_type": "markdown",
   "id": "14332ef4-030c-4400-bfab-e029b969f127",
   "metadata": {},
   "source": [
    "# Marginalisation of $\\sigma_w$"
   ]
  },
  {
   "cell_type": "markdown",
   "id": "d6646ae5",
   "metadata": {},
   "source": [
    "## Implementation of a marginalisation stage as described in [1]"
   ]
  },
  {
   "cell_type": "code",
   "execution_count": null,
   "id": "1f975e8a",
   "metadata": {
    "vscode": {
     "languageId": "plaintext"
    }
   },
   "outputs": [],
   "source": []
  },
  {
   "cell_type": "markdown",
   "id": "d4dd602c",
   "metadata": {},
   "source": [
    "[1]: The Lévy State Space Model: Simon Godsill, Marina Riabiz, Ioannis Kontoyiannis https://arxiv.org/abs/1912.12524 "
   ]
  }
 ],
 "metadata": {
  "kernelspec": {
   "display_name": "Python 3 (ipykernel)",
   "language": "python",
   "name": "python3"
  },
  "language_info": {
   "codemirror_mode": {
    "name": "ipython",
    "version": 3
   },
   "file_extension": ".py",
   "mimetype": "text/x-python",
   "name": "python",
   "nbconvert_exporter": "python",
   "pygments_lexer": "ipython3",
   "version": "3.12.7"
  }
 },
 "nbformat": 4,
 "nbformat_minor": 5
}
