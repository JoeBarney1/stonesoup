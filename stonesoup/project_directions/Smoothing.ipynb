{
 "cells": [
  {
   "cell_type": "markdown",
   "id": "c34e4177-f7d0-4841-967b-e759108109a2",
   "metadata": {},
   "source": [
    "## Lagged smoothing, t-L|0:t"
   ]
  },
  {
   "cell_type": "code",
   "execution_count": 1,
   "id": "00e26462",
   "metadata": {},
   "outputs": [
    {
     "name": "stdout",
     "output_type": "stream",
     "text": [
      "['c:\\\\Users\\\\joesb\\\\anaconda3\\\\envs\\\\stonesoup_env\\\\python312.zip', 'c:\\\\Users\\\\joesb\\\\anaconda3\\\\envs\\\\stonesoup_env\\\\DLLs', 'c:\\\\Users\\\\joesb\\\\anaconda3\\\\envs\\\\stonesoup_env\\\\Lib', 'c:\\\\Users\\\\joesb\\\\anaconda3\\\\envs\\\\stonesoup_env', '', 'c:\\\\Users\\\\joesb\\\\anaconda3\\\\envs\\\\stonesoup_env\\\\Lib\\\\site-packages', 'c:\\\\Users\\\\joesb\\\\anaconda3\\\\envs\\\\stonesoup_env\\\\Lib\\\\site-packages\\\\win32', 'c:\\\\Users\\\\joesb\\\\anaconda3\\\\envs\\\\stonesoup_env\\\\Lib\\\\site-packages\\\\win32\\\\lib', 'c:\\\\Users\\\\joesb\\\\anaconda3\\\\envs\\\\stonesoup_env\\\\Lib\\\\site-packages\\\\Pythonwin']\n"
     ]
    }
   ],
   "source": [
    "import sys\n",
    "import os\n",
    "\n",
    "# # Add the local stonesoup directory to sys.path\n",
    "# project_path = r\"C:\\Users\\joesb\\Documents\\stonesoup\"  # Adjust this to your actual path\n",
    "# if project_path not in sys.path:\n",
    "#     sys.path.insert(0, project_path)\n",
    "\n",
    "print(sys.path)"
   ]
  },
  {
   "cell_type": "code",
   "execution_count": 96,
   "id": "095ed441",
   "metadata": {},
   "outputs": [
    {
     "name": "stdout",
     "output_type": "stream",
     "text": [
      "['__abstractmethods__', '__annotations__', '__class__', '__delattr__', '__dict__', '__dir__', '__doc__', '__eq__', '__format__', '__ge__', '__getattribute__', '__getstate__', '__gt__', '__hash__', '__init__', '__init_subclass__', '__le__', '__lt__', '__module__', '__ne__', '__new__', '__reduce__', '__reduce_ex__', '__repr__', '__setattr__', '__sizeof__', '__str__', '__subclasshook__', '__weakref__', '_abc_impl', '_properties', '_subclasses', 'ndim', 'parent', 'state_vector', 'weight']\n"
     ]
    }
   ],
   "source": [
    "from stonesoup.types.particle import Particle\n",
    "# Check if `history` is in the class attributes\n",
    "print(dir(Particle))"
   ]
  },
  {
   "cell_type": "markdown",
   "id": "36e4dc4c-0325-426f-a85a-ceb5bc0c6c15",
   "metadata": {},
   "source": [
    "Consider the scenario where the target evolves according to the Langevin model, driven by a normal sigma-mean mixture with the mixing distribution being the $\\alpha$-stable distribution."
   ]
  },
  {
   "cell_type": "code",
   "execution_count": 97,
   "id": "89f3a32a-bd28-4847-9bc9-46c810cef76d",
   "metadata": {},
   "outputs": [],
   "source": [
    "import numpy as np\n",
    "from datetime import datetime, timedelta"
   ]
  },
  {
   "cell_type": "markdown",
   "id": "7a277e3e-e853-4f90-b431-a5a13b380f48",
   "metadata": {},
   "source": [
    "The state of the target can be represented as 2D Cartesian coordinates, $\\left[x, \\dot x, y, \\dot y\\right]^{\\top}$, modelling both its position and velocity. A simple truth path is created with a sampling rate of 1 Hz."
   ]
  },
  {
   "cell_type": "code",
   "execution_count": 98,
   "id": "75a3940b-6e0c-4c2f-bd8a-4844802e0db7",
   "metadata": {},
   "outputs": [],
   "source": [
    "from stonesoup.types.groundtruth import GroundTruthPath, GroundTruthState\n",
    "from stonesoup.models.base_driver import GaussianResidualApproxCase\n",
    "from stonesoup.models.driver import AlphaStableNSMDriver \n",
    "from stonesoup.models.transition.levylinear import LevyLangevin, CombinedLinearLevyTransitionModel\n",
    "\n",
    "# And the clock starts\n",
    "start_time = datetime.now().replace(microsecond=0)"
   ]
  },
  {
   "cell_type": "markdown",
   "id": "69026f8d-bb9e-4673-b177-45d12cbed859",
   "metadata": {},
   "source": [
    "The `LevyLangevin` class creates a one-dimensional Langevin model, driven by the $\\alpha$-stable NSM mixture process defined in the `AlphaStableNSMDriver` class.\n",
    "\n",
    "\\begin{equation}\n",
    "d \\dot{x}(t)=-\\theta \\dot{x}(t) d t+d W(t), \\quad \\theta>0\n",
    "\\end{equation}\n",
    "\n",
    "where $\\theta$ is the damping factor and $W(t)$ is the non-Gaussian driving process.\n",
    "\n",
    "The noise samples $\\mathbf{w}_n$ are drawn from the $\\alpha$-stable distribution parameterized by the $\\alpha$-stable law, $S_{\\alpha}(\\sigma, \\beta, \\mu)$.\n",
    "\n",
    "The input parameters to `AlphaStableNSMDriver` class are the stability index $\\alpha$, expected jumps per unit time $c$, conditional Gaussian mean $\\mu_W$ & variance $\\sigma_W^2$, and the type of residuals used for the truncated shot-noise representation, specified by `noise_case`. \n",
    "\n",
    "Without diving into technical details, the scaling factor $\\sigma$, skewness parameter $\\beta$ and location $\\mu$, in the $\\alpha$-stable law is a function of the conditional Gaussian parameters $\\mu_W, \\sigma_W^2$. In general, set $\\mu_W=0$ for a symmetric target distribution $\\beta=0$, or $\\mu_W \\neq 0$ to model biased trajectories otherwise. In addition, the size of the resulting trajectories (and jumps) can be adjusted by varying $\\sigma_W^2$.\n",
    "\n",
    "The available noise cases are:\n",
    "\n",
    "1. No residuals, `TruncatedCase`, least expensive but drawn noise samples deviate further from target distribution.\n",
    "2. `GaussianResidualApproxCase`, the most expensive but drawn noise samples closest target distribution.\n",
    "3. `PartialGaussianResidualApproxCase`, a compromise between both cases (1) and (2).\n",
    "\n",
    "\n",
    "For interested readers, refer to [1, 2] for more details.\n",
    "\n",
    "Here, we initialise an $\\alpha$-stable driver with the default parameters `mu_W=0, sigma_W2=1, alpha=1.4, noise_case=GaussianResidualApproxCase(), c=10`.\n",
    "\n",
    "Then, the driver instance is injected into the Langevin model for every coordinate axes (i.e., x and y) during initialisation with parameter `damping_coeff=0.15`.\n",
    "\n",
    "Note that we overwrite the default `mu_W` parameter in the $\\alpha$-stable driver for the x-coordinate axes to bias our trajectories towards the left. This can be done by passing an additional argument `mu_W = -0.02` when injecting the driver into the Langevin model.\n",
    "\n",
    "Finallt, the `CombinedLinearLevyTransitionModel` class takes a set of 1-D models and combines them into a linear transition model of arbitrary dimension, $D$, (in this case, $D=2$).\n",
    "\n",
    "\n",
    "\n",
    "\n",
    "<!-- and  in the $\\alpha$-stable law is a function of the conditional Gaussian mean $\\mu_W$\n",
    "\n",
    "where $\\beta=\\begin{cases} 1, \\quad \\mu_W \\neq 0 \\\\ 0, \\quad \\text{otherwise} \\end{cases}$ with $\\beta=0$ being the a symmetric stable distribution.\n",
    "\n",
    "$\\sigma=\\frac{\\mathbb{E}|w|^\\alpha \\Gamma(2-\\alpha) \\cos(\\pi \\alpha / 2))}{1- \\alpha}$ represent the scale parameter and $\\beta=$ controlling the skewness of the stable distribution. -->\n"
   ]
  },
  {
   "cell_type": "code",
   "execution_count": 99,
   "id": "5a5fd30c-e869-47e6-9cb5-8907df8b1e68",
   "metadata": {},
   "outputs": [],
   "source": [
    "seed = 1 # Random seem for reproducibility\n",
    "\n",
    "# Driving process parameters\n",
    "mu_W = 0\n",
    "sigma_W2 = 4\n",
    "alpha = 1.4\n",
    "c=10\n",
    "noise_case=GaussianResidualApproxCase()\n",
    "\n",
    "\n",
    "# Model parameters\n",
    "theta=0.15\n",
    "\n",
    "driver_x = AlphaStableNSMDriver(mu_W=mu_W, sigma_W2=sigma_W2, seed=seed, c=c, alpha=alpha, noise_case=noise_case)\n",
    "driver_y = driver_x # Same driving process in both dimensions and sharing the same latents (jumps)\n",
    "langevin_x = LevyLangevin(driver=driver_x, damping_coeff=theta, mu_W=-0.02)\n",
    "langevin_y = LevyLangevin(driver=driver_y, damping_coeff=theta)\n",
    "transition_model = CombinedLinearLevyTransitionModel([langevin_x, langevin_y])\n"
   ]
  },
  {
   "cell_type": "code",
   "execution_count": 100,
   "id": "70a2f4db-995e-42df-995c-0b62be09fa61",
   "metadata": {},
   "outputs": [
    {
     "name": "stdout",
     "output_type": "stream",
     "text": [
      "[[-0.02]\n",
      " [ 0.  ]]\n",
      "[[4 0]\n",
      " [0 4]]\n"
     ]
    }
   ],
   "source": [
    "print(transition_model.mu_W)\n",
    "print(transition_model.sigma_W2)"
   ]
  },
  {
   "cell_type": "markdown",
   "id": "3f1c85f9-34d1-4d81-bf23-2838f55d0fcf",
   "metadata": {},
   "source": [
    "The ground truth is initialised from (0,0)."
   ]
  },
  {
   "cell_type": "code",
   "execution_count": 101,
   "id": "d381158e-3147-4b6d-a982-4aa959f4c625",
   "metadata": {},
   "outputs": [],
   "source": [
    "timesteps = [start_time]\n",
    "truth = GroundTruthPath([GroundTruthState([0, 1, 0, 1], timestamp=timesteps[0])])\n",
    "\n",
    "num_steps = 5\n",
    "for k in range(1, num_steps + 1):\n",
    "    timesteps.append(start_time+timedelta(seconds=k))  # add next timestep to list of timesteps\n",
    "    truth.append(GroundTruthState(\n",
    "        transition_model.function(truth[k-1], noise=True, time_interval=timedelta(seconds=1)),\n",
    "        timestamp=timesteps[k]))"
   ]
  },
  {
   "cell_type": "markdown",
   "id": "fee6d666-f45d-4344-a2d9-865f599e256b",
   "metadata": {},
   "source": [
    "The simulated ground truth path can be plotted using the in-built plotting classes in Stone Soup.\n",
    "\n",
    "In addition to the ground truth, Stone Soup plotting tools allow measurements and predicted tracks (see later) to be plotted and synced together consistently.\n",
    "\n",
    "An animated plotter that uses Plotly graph objects can be accessed via the `AnimatedPlotterly` class from Stone Soup.\n",
    "\n",
    "Note that the animated plotter requires a list of timesteps as an input, and that `tail_length`\n",
    "is set to 0.3. This means that each data point will be on display for 30% of the total\n",
    "simulation time. The mapping argument is [0, 2] because those are the x and\n",
    "y position indices from our state vector.\n",
    "\n",
    "If a static plotter is preferred, the `Plotterly` class can be used instead\n",
    "\n"
   ]
  },
  {
   "cell_type": "code",
   "execution_count": 102,
   "id": "9cf6f18f-8586-4511-9603-248ff7f8a037",
   "metadata": {
    "scrolled": true
   },
   "outputs": [
    {
     "data": {
      "application/vnd.plotly.v1+json": {
       "config": {
        "plotlyServerURL": "https://plot.ly"
       },
       "data": [
        {
         "legendgroup": "Ground Truth",
         "legendrank": 100,
         "line": {
          "dash": "dash"
         },
         "mode": "lines",
         "name": "Ground Truth",
         "showlegend": true,
         "text": [
          "GroundTruthState<br>[[0]\n [1]\n [0]\n [1]]<br>2024-11-05 11:54:20",
          "GroundTruthState<br>[[-2.30419745]\n [-5.84760842]\n [ 0.6991504 ]\n [ 2.537487  ]]<br>2024-11-05 11:54:21",
          "GroundTruthState<br>[[-7.66601679]\n [-5.70574346]\n [ 2.19051091]\n [ 1.77747814]]<br>2024-11-05 11:54:22",
          "GroundTruthState<br>[[-13.162837  ]\n [ -5.65109917]\n [  2.79898105]\n [ -0.35947115]]<br>2024-11-05 11:54:23",
          "GroundTruthState<br>[[-17.7838805 ]\n [ -4.53818728]\n [  3.32944883]\n [  0.29269278]]<br>2024-11-05 11:54:24",
          "GroundTruthState<br>[[-25.0283455 ]\n [-10.89599934]\n [  4.56360952]\n [  2.34506157]]<br>2024-11-05 11:54:25"
         ],
         "type": "scatter",
         "x": [
          0,
          -2.3041974450277456,
          -7.666016789757846,
          -13.162836998971459,
          -17.783880503655507,
          -25.02834550156593
         ],
         "y": [
          0,
          0.6991504012338499,
          2.190510911801507,
          2.798981051487619,
          3.3294488275123917,
          4.563609516734328
         ]
        }
       ],
       "layout": {
        "autosize": false,
        "colorway": [
         "#636EFA",
         "#EF553B",
         "#00CC96",
         "#AB63FA",
         "#FFA15A",
         "#19D3F3",
         "#FF6692",
         "#B6E880",
         "#FF97FF",
         "#FECB52"
        ],
        "height": 600,
        "template": {
         "data": {
          "bar": [
           {
            "error_x": {
             "color": "#2a3f5f"
            },
            "error_y": {
             "color": "#2a3f5f"
            },
            "marker": {
             "line": {
              "color": "#E5ECF6",
              "width": 0.5
             },
             "pattern": {
              "fillmode": "overlay",
              "size": 10,
              "solidity": 0.2
             }
            },
            "type": "bar"
           }
          ],
          "barpolar": [
           {
            "marker": {
             "line": {
              "color": "#E5ECF6",
              "width": 0.5
             },
             "pattern": {
              "fillmode": "overlay",
              "size": 10,
              "solidity": 0.2
             }
            },
            "type": "barpolar"
           }
          ],
          "carpet": [
           {
            "aaxis": {
             "endlinecolor": "#2a3f5f",
             "gridcolor": "white",
             "linecolor": "white",
             "minorgridcolor": "white",
             "startlinecolor": "#2a3f5f"
            },
            "baxis": {
             "endlinecolor": "#2a3f5f",
             "gridcolor": "white",
             "linecolor": "white",
             "minorgridcolor": "white",
             "startlinecolor": "#2a3f5f"
            },
            "type": "carpet"
           }
          ],
          "choropleth": [
           {
            "colorbar": {
             "outlinewidth": 0,
             "ticks": ""
            },
            "type": "choropleth"
           }
          ],
          "contour": [
           {
            "colorbar": {
             "outlinewidth": 0,
             "ticks": ""
            },
            "colorscale": [
             [
              0,
              "#0d0887"
             ],
             [
              0.1111111111111111,
              "#46039f"
             ],
             [
              0.2222222222222222,
              "#7201a8"
             ],
             [
              0.3333333333333333,
              "#9c179e"
             ],
             [
              0.4444444444444444,
              "#bd3786"
             ],
             [
              0.5555555555555556,
              "#d8576b"
             ],
             [
              0.6666666666666666,
              "#ed7953"
             ],
             [
              0.7777777777777778,
              "#fb9f3a"
             ],
             [
              0.8888888888888888,
              "#fdca26"
             ],
             [
              1,
              "#f0f921"
             ]
            ],
            "type": "contour"
           }
          ],
          "contourcarpet": [
           {
            "colorbar": {
             "outlinewidth": 0,
             "ticks": ""
            },
            "type": "contourcarpet"
           }
          ],
          "heatmap": [
           {
            "colorbar": {
             "outlinewidth": 0,
             "ticks": ""
            },
            "colorscale": [
             [
              0,
              "#0d0887"
             ],
             [
              0.1111111111111111,
              "#46039f"
             ],
             [
              0.2222222222222222,
              "#7201a8"
             ],
             [
              0.3333333333333333,
              "#9c179e"
             ],
             [
              0.4444444444444444,
              "#bd3786"
             ],
             [
              0.5555555555555556,
              "#d8576b"
             ],
             [
              0.6666666666666666,
              "#ed7953"
             ],
             [
              0.7777777777777778,
              "#fb9f3a"
             ],
             [
              0.8888888888888888,
              "#fdca26"
             ],
             [
              1,
              "#f0f921"
             ]
            ],
            "type": "heatmap"
           }
          ],
          "heatmapgl": [
           {
            "colorbar": {
             "outlinewidth": 0,
             "ticks": ""
            },
            "colorscale": [
             [
              0,
              "#0d0887"
             ],
             [
              0.1111111111111111,
              "#46039f"
             ],
             [
              0.2222222222222222,
              "#7201a8"
             ],
             [
              0.3333333333333333,
              "#9c179e"
             ],
             [
              0.4444444444444444,
              "#bd3786"
             ],
             [
              0.5555555555555556,
              "#d8576b"
             ],
             [
              0.6666666666666666,
              "#ed7953"
             ],
             [
              0.7777777777777778,
              "#fb9f3a"
             ],
             [
              0.8888888888888888,
              "#fdca26"
             ],
             [
              1,
              "#f0f921"
             ]
            ],
            "type": "heatmapgl"
           }
          ],
          "histogram": [
           {
            "marker": {
             "pattern": {
              "fillmode": "overlay",
              "size": 10,
              "solidity": 0.2
             }
            },
            "type": "histogram"
           }
          ],
          "histogram2d": [
           {
            "colorbar": {
             "outlinewidth": 0,
             "ticks": ""
            },
            "colorscale": [
             [
              0,
              "#0d0887"
             ],
             [
              0.1111111111111111,
              "#46039f"
             ],
             [
              0.2222222222222222,
              "#7201a8"
             ],
             [
              0.3333333333333333,
              "#9c179e"
             ],
             [
              0.4444444444444444,
              "#bd3786"
             ],
             [
              0.5555555555555556,
              "#d8576b"
             ],
             [
              0.6666666666666666,
              "#ed7953"
             ],
             [
              0.7777777777777778,
              "#fb9f3a"
             ],
             [
              0.8888888888888888,
              "#fdca26"
             ],
             [
              1,
              "#f0f921"
             ]
            ],
            "type": "histogram2d"
           }
          ],
          "histogram2dcontour": [
           {
            "colorbar": {
             "outlinewidth": 0,
             "ticks": ""
            },
            "colorscale": [
             [
              0,
              "#0d0887"
             ],
             [
              0.1111111111111111,
              "#46039f"
             ],
             [
              0.2222222222222222,
              "#7201a8"
             ],
             [
              0.3333333333333333,
              "#9c179e"
             ],
             [
              0.4444444444444444,
              "#bd3786"
             ],
             [
              0.5555555555555556,
              "#d8576b"
             ],
             [
              0.6666666666666666,
              "#ed7953"
             ],
             [
              0.7777777777777778,
              "#fb9f3a"
             ],
             [
              0.8888888888888888,
              "#fdca26"
             ],
             [
              1,
              "#f0f921"
             ]
            ],
            "type": "histogram2dcontour"
           }
          ],
          "mesh3d": [
           {
            "colorbar": {
             "outlinewidth": 0,
             "ticks": ""
            },
            "type": "mesh3d"
           }
          ],
          "parcoords": [
           {
            "line": {
             "colorbar": {
              "outlinewidth": 0,
              "ticks": ""
             }
            },
            "type": "parcoords"
           }
          ],
          "pie": [
           {
            "automargin": true,
            "type": "pie"
           }
          ],
          "scatter": [
           {
            "fillpattern": {
             "fillmode": "overlay",
             "size": 10,
             "solidity": 0.2
            },
            "type": "scatter"
           }
          ],
          "scatter3d": [
           {
            "line": {
             "colorbar": {
              "outlinewidth": 0,
              "ticks": ""
             }
            },
            "marker": {
             "colorbar": {
              "outlinewidth": 0,
              "ticks": ""
             }
            },
            "type": "scatter3d"
           }
          ],
          "scattercarpet": [
           {
            "marker": {
             "colorbar": {
              "outlinewidth": 0,
              "ticks": ""
             }
            },
            "type": "scattercarpet"
           }
          ],
          "scattergeo": [
           {
            "marker": {
             "colorbar": {
              "outlinewidth": 0,
              "ticks": ""
             }
            },
            "type": "scattergeo"
           }
          ],
          "scattergl": [
           {
            "marker": {
             "colorbar": {
              "outlinewidth": 0,
              "ticks": ""
             }
            },
            "type": "scattergl"
           }
          ],
          "scattermapbox": [
           {
            "marker": {
             "colorbar": {
              "outlinewidth": 0,
              "ticks": ""
             }
            },
            "type": "scattermapbox"
           }
          ],
          "scatterpolar": [
           {
            "marker": {
             "colorbar": {
              "outlinewidth": 0,
              "ticks": ""
             }
            },
            "type": "scatterpolar"
           }
          ],
          "scatterpolargl": [
           {
            "marker": {
             "colorbar": {
              "outlinewidth": 0,
              "ticks": ""
             }
            },
            "type": "scatterpolargl"
           }
          ],
          "scatterternary": [
           {
            "marker": {
             "colorbar": {
              "outlinewidth": 0,
              "ticks": ""
             }
            },
            "type": "scatterternary"
           }
          ],
          "surface": [
           {
            "colorbar": {
             "outlinewidth": 0,
             "ticks": ""
            },
            "colorscale": [
             [
              0,
              "#0d0887"
             ],
             [
              0.1111111111111111,
              "#46039f"
             ],
             [
              0.2222222222222222,
              "#7201a8"
             ],
             [
              0.3333333333333333,
              "#9c179e"
             ],
             [
              0.4444444444444444,
              "#bd3786"
             ],
             [
              0.5555555555555556,
              "#d8576b"
             ],
             [
              0.6666666666666666,
              "#ed7953"
             ],
             [
              0.7777777777777778,
              "#fb9f3a"
             ],
             [
              0.8888888888888888,
              "#fdca26"
             ],
             [
              1,
              "#f0f921"
             ]
            ],
            "type": "surface"
           }
          ],
          "table": [
           {
            "cells": {
             "fill": {
              "color": "#EBF0F8"
             },
             "line": {
              "color": "white"
             }
            },
            "header": {
             "fill": {
              "color": "#C8D4E3"
             },
             "line": {
              "color": "white"
             }
            },
            "type": "table"
           }
          ]
         },
         "layout": {
          "annotationdefaults": {
           "arrowcolor": "#2a3f5f",
           "arrowhead": 0,
           "arrowwidth": 1
          },
          "autotypenumbers": "strict",
          "coloraxis": {
           "colorbar": {
            "outlinewidth": 0,
            "ticks": ""
           }
          },
          "colorscale": {
           "diverging": [
            [
             0,
             "#8e0152"
            ],
            [
             0.1,
             "#c51b7d"
            ],
            [
             0.2,
             "#de77ae"
            ],
            [
             0.3,
             "#f1b6da"
            ],
            [
             0.4,
             "#fde0ef"
            ],
            [
             0.5,
             "#f7f7f7"
            ],
            [
             0.6,
             "#e6f5d0"
            ],
            [
             0.7,
             "#b8e186"
            ],
            [
             0.8,
             "#7fbc41"
            ],
            [
             0.9,
             "#4d9221"
            ],
            [
             1,
             "#276419"
            ]
           ],
           "sequential": [
            [
             0,
             "#0d0887"
            ],
            [
             0.1111111111111111,
             "#46039f"
            ],
            [
             0.2222222222222222,
             "#7201a8"
            ],
            [
             0.3333333333333333,
             "#9c179e"
            ],
            [
             0.4444444444444444,
             "#bd3786"
            ],
            [
             0.5555555555555556,
             "#d8576b"
            ],
            [
             0.6666666666666666,
             "#ed7953"
            ],
            [
             0.7777777777777778,
             "#fb9f3a"
            ],
            [
             0.8888888888888888,
             "#fdca26"
            ],
            [
             1,
             "#f0f921"
            ]
           ],
           "sequentialminus": [
            [
             0,
             "#0d0887"
            ],
            [
             0.1111111111111111,
             "#46039f"
            ],
            [
             0.2222222222222222,
             "#7201a8"
            ],
            [
             0.3333333333333333,
             "#9c179e"
            ],
            [
             0.4444444444444444,
             "#bd3786"
            ],
            [
             0.5555555555555556,
             "#d8576b"
            ],
            [
             0.6666666666666666,
             "#ed7953"
            ],
            [
             0.7777777777777778,
             "#fb9f3a"
            ],
            [
             0.8888888888888888,
             "#fdca26"
            ],
            [
             1,
             "#f0f921"
            ]
           ]
          },
          "colorway": [
           "#636efa",
           "#EF553B",
           "#00cc96",
           "#ab63fa",
           "#FFA15A",
           "#19d3f3",
           "#FF6692",
           "#B6E880",
           "#FF97FF",
           "#FECB52"
          ],
          "font": {
           "color": "#2a3f5f"
          },
          "geo": {
           "bgcolor": "white",
           "lakecolor": "white",
           "landcolor": "#E5ECF6",
           "showlakes": true,
           "showland": true,
           "subunitcolor": "white"
          },
          "hoverlabel": {
           "align": "left"
          },
          "hovermode": "closest",
          "mapbox": {
           "style": "light"
          },
          "paper_bgcolor": "white",
          "plot_bgcolor": "#E5ECF6",
          "polar": {
           "angularaxis": {
            "gridcolor": "white",
            "linecolor": "white",
            "ticks": ""
           },
           "bgcolor": "#E5ECF6",
           "radialaxis": {
            "gridcolor": "white",
            "linecolor": "white",
            "ticks": ""
           }
          },
          "scene": {
           "xaxis": {
            "backgroundcolor": "#E5ECF6",
            "gridcolor": "white",
            "gridwidth": 2,
            "linecolor": "white",
            "showbackground": true,
            "ticks": "",
            "zerolinecolor": "white"
           },
           "yaxis": {
            "backgroundcolor": "#E5ECF6",
            "gridcolor": "white",
            "gridwidth": 2,
            "linecolor": "white",
            "showbackground": true,
            "ticks": "",
            "zerolinecolor": "white"
           },
           "zaxis": {
            "backgroundcolor": "#E5ECF6",
            "gridcolor": "white",
            "gridwidth": 2,
            "linecolor": "white",
            "showbackground": true,
            "ticks": "",
            "zerolinecolor": "white"
           }
          },
          "shapedefaults": {
           "line": {
            "color": "#2a3f5f"
           }
          },
          "ternary": {
           "aaxis": {
            "gridcolor": "white",
            "linecolor": "white",
            "ticks": ""
           },
           "baxis": {
            "gridcolor": "white",
            "linecolor": "white",
            "ticks": ""
           },
           "bgcolor": "#E5ECF6",
           "caxis": {
            "gridcolor": "white",
            "linecolor": "white",
            "ticks": ""
           }
          },
          "title": {
           "x": 0.05
          },
          "xaxis": {
           "automargin": true,
           "gridcolor": "white",
           "linecolor": "white",
           "ticks": "",
           "title": {
            "standoff": 15
           },
           "zerolinecolor": "white",
           "zerolinewidth": 2
          },
          "yaxis": {
           "automargin": true,
           "gridcolor": "white",
           "linecolor": "white",
           "ticks": "",
           "title": {
            "standoff": 15
           },
           "zerolinecolor": "white",
           "zerolinewidth": 2
          }
         }
        },
        "width": 600,
        "xaxis": {
         "title": {
          "text": "x"
         }
        },
        "yaxis": {
         "title": {
          "text": "y"
         }
        }
       }
      }
     },
     "metadata": {},
     "output_type": "display_data"
    }
   ],
   "source": [
    "# from stonesoup.plotter import AnimatedPlotterly\n",
    "# plotter = AnimatedPlotterly(timesteps, tail_length=1.0, width=600, height=600)\n",
    "\n",
    "from stonesoup.plotter import Plotterly\n",
    "plotter = Plotterly(autosize=False, width=600, height=600)\n",
    "plotter.plot_ground_truths(truth, [0, 2])\n",
    "plotter.fig"
   ]
  },
  {
   "cell_type": "markdown",
   "id": "c1143d2f-aeaa-44e8-8b01-479a80e0601b",
   "metadata": {},
   "source": [
    "## Simulate measurements"
   ]
  },
  {
   "cell_type": "markdown",
   "id": "dea94e4b-23fc-465d-ad63-d3417eb708a6",
   "metadata": {},
   "source": [
    "Assume a 'linear' sensor which detects the\n",
    "position, but not velocity, of a target, such that\n",
    "$\\mathbf{z}_k = H_k \\mathbf{x}_k + \\boldsymbol{\\nu}_k$,\n",
    "$\\boldsymbol{\\nu}_k \\sim \\mathcal{N}(0,R)$, with\n",
    "\n",
    "\\begin{align}H_k &= \\begin{bmatrix}\n",
    "                    1 & 0 & 0 & 0\\\\\n",
    "                    0  & 0 & 1 & 0\\\\\n",
    "                      \\end{bmatrix}\\\\\n",
    "          R &= \\begin{bmatrix}\n",
    "                  25 & 0\\\\\n",
    "                    0 & 25\\\\\n",
    "               \\end{bmatrix} \\omega\\end{align}\n",
    "\n",
    "where $\\omega$ is set to 25 initially."
   ]
  },
  {
   "cell_type": "code",
   "execution_count": 103,
   "id": "383f6231-6728-4ff7-b388-581c4284d011",
   "metadata": {},
   "outputs": [],
   "source": [
    "from stonesoup.types.detection import Detection\n",
    "from stonesoup.models.measurement.linear import LinearGaussian\n"
   ]
  },
  {
   "cell_type": "markdown",
   "id": "3bc0ec57-951a-4ba7-b0fb-a0409f21cb1b",
   "metadata": {},
   "source": [
    "The linear Gaussian measurement model is set up by indicating the number of dimensions in the\n",
    "state vector and the dimensions that are measured (so specifying $H_k$) and the noise\n",
    "covariance matrix $R$."
   ]
  },
  {
   "cell_type": "code",
   "execution_count": 104,
   "id": "ddfe185d-00bc-4fbc-950c-824ba9bdc837",
   "metadata": {},
   "outputs": [],
   "source": [
    "measurement_model = LinearGaussian(\n",
    "    ndim_state=4,  # Number of state dimensions (position and velocity in 2D)\n",
    "    mapping=(0, 2),  # Mapping measurement vector index to state index\n",
    "    noise_covar=np.array([[0.5, 0],  # Covariance matrix for Gaussian PDF\n",
    "                          [0, 0.5]])\n",
    "    )"
   ]
  },
  {
   "cell_type": "markdown",
   "id": "f95d2d6b-a6b6-4d9a-8525-764bdfa855cd",
   "metadata": {},
   "source": [
    "The measurements can now be generated and plotted accordingly."
   ]
  },
  {
   "cell_type": "code",
   "execution_count": 105,
   "id": "8e0346af-dd50-4e2f-b736-1c33baf95326",
   "metadata": {},
   "outputs": [],
   "source": [
    "measurements = []\n",
    "for state in truth:\n",
    "    measurement = measurement_model.function(state, noise=True)\n",
    "    measurements.append(Detection(measurement,\n",
    "                                  timestamp=state.timestamp,\n",
    "                                  measurement_model=measurement_model))"
   ]
  },
  {
   "cell_type": "code",
   "execution_count": 106,
   "id": "f2c6d788-9db9-42ac-8311-59cb037c05b8",
   "metadata": {},
   "outputs": [
    {
     "data": {
      "application/vnd.plotly.v1+json": {
       "config": {
        "plotlyServerURL": "https://plot.ly"
       },
       "data": [
        {
         "legendgroup": "Ground Truth",
         "legendrank": 100,
         "line": {
          "dash": "dash"
         },
         "mode": "lines",
         "name": "Ground Truth",
         "showlegend": true,
         "text": [
          "GroundTruthState<br>[[0]\n [1]\n [0]\n [1]]<br>2024-11-05 11:54:20",
          "GroundTruthState<br>[[-2.30419745]\n [-5.84760842]\n [ 0.6991504 ]\n [ 2.537487  ]]<br>2024-11-05 11:54:21",
          "GroundTruthState<br>[[-7.66601679]\n [-5.70574346]\n [ 2.19051091]\n [ 1.77747814]]<br>2024-11-05 11:54:22",
          "GroundTruthState<br>[[-13.162837  ]\n [ -5.65109917]\n [  2.79898105]\n [ -0.35947115]]<br>2024-11-05 11:54:23",
          "GroundTruthState<br>[[-17.7838805 ]\n [ -4.53818728]\n [  3.32944883]\n [  0.29269278]]<br>2024-11-05 11:54:24",
          "GroundTruthState<br>[[-25.0283455 ]\n [-10.89599934]\n [  4.56360952]\n [  2.34506157]]<br>2024-11-05 11:54:25"
         ],
         "type": "scatter",
         "x": [
          0,
          -2.3041974450277456,
          -7.666016789757846,
          -13.162836998971459,
          -17.783880503655507,
          -25.02834550156593
         ],
         "y": [
          0,
          0.6991504012338499,
          2.190510911801507,
          2.798981051487619,
          3.3294488275123917,
          4.563609516734328
         ]
        },
        {
         "legendgroup": "Measurements<br>(Detections)",
         "legendrank": 200,
         "marker": {
          "color": "#636EFA"
         },
         "mode": "markers",
         "name": "Measurements<br>(Detections)",
         "showlegend": true,
         "text": [
          "Detection<br>[[-8.47522338]\n [ 2.46970934]]<br>2024-11-05 11:54:22",
          "Detection<br>[[ 1.30259157]\n [-0.46977795]]<br>2024-11-05 11:54:20",
          "Detection<br>[[-13.43008302]\n [  3.20539853]]<br>2024-11-05 11:54:23",
          "Detection<br>[[-17.06667975]\n [  3.69327552]]<br>2024-11-05 11:54:24",
          "Detection<br>[[-2.44007161]\n [ 1.02294401]]<br>2024-11-05 11:54:21",
          "Detection<br>[[-25.24579438]\n [  4.71261896]]<br>2024-11-05 11:54:25"
         ],
         "type": "scatter",
         "x": [
          -8.47522337927162,
          1.302591567973156,
          -13.430083022958108,
          -17.06667975411817,
          -2.4400716133022913,
          -25.24579438384058
         ],
         "y": [
          2.469709339331512,
          -0.4697779545506622,
          3.2053985271456726,
          3.693275521796281,
          1.0229440052422225,
          4.712618959298146
         ]
        }
       ],
       "layout": {
        "autosize": false,
        "colorway": [
         "#636EFA",
         "#EF553B",
         "#00CC96",
         "#AB63FA",
         "#FFA15A",
         "#19D3F3",
         "#FF6692",
         "#B6E880",
         "#FF97FF",
         "#FECB52"
        ],
        "height": 600,
        "template": {
         "data": {
          "bar": [
           {
            "error_x": {
             "color": "#2a3f5f"
            },
            "error_y": {
             "color": "#2a3f5f"
            },
            "marker": {
             "line": {
              "color": "#E5ECF6",
              "width": 0.5
             },
             "pattern": {
              "fillmode": "overlay",
              "size": 10,
              "solidity": 0.2
             }
            },
            "type": "bar"
           }
          ],
          "barpolar": [
           {
            "marker": {
             "line": {
              "color": "#E5ECF6",
              "width": 0.5
             },
             "pattern": {
              "fillmode": "overlay",
              "size": 10,
              "solidity": 0.2
             }
            },
            "type": "barpolar"
           }
          ],
          "carpet": [
           {
            "aaxis": {
             "endlinecolor": "#2a3f5f",
             "gridcolor": "white",
             "linecolor": "white",
             "minorgridcolor": "white",
             "startlinecolor": "#2a3f5f"
            },
            "baxis": {
             "endlinecolor": "#2a3f5f",
             "gridcolor": "white",
             "linecolor": "white",
             "minorgridcolor": "white",
             "startlinecolor": "#2a3f5f"
            },
            "type": "carpet"
           }
          ],
          "choropleth": [
           {
            "colorbar": {
             "outlinewidth": 0,
             "ticks": ""
            },
            "type": "choropleth"
           }
          ],
          "contour": [
           {
            "colorbar": {
             "outlinewidth": 0,
             "ticks": ""
            },
            "colorscale": [
             [
              0,
              "#0d0887"
             ],
             [
              0.1111111111111111,
              "#46039f"
             ],
             [
              0.2222222222222222,
              "#7201a8"
             ],
             [
              0.3333333333333333,
              "#9c179e"
             ],
             [
              0.4444444444444444,
              "#bd3786"
             ],
             [
              0.5555555555555556,
              "#d8576b"
             ],
             [
              0.6666666666666666,
              "#ed7953"
             ],
             [
              0.7777777777777778,
              "#fb9f3a"
             ],
             [
              0.8888888888888888,
              "#fdca26"
             ],
             [
              1,
              "#f0f921"
             ]
            ],
            "type": "contour"
           }
          ],
          "contourcarpet": [
           {
            "colorbar": {
             "outlinewidth": 0,
             "ticks": ""
            },
            "type": "contourcarpet"
           }
          ],
          "heatmap": [
           {
            "colorbar": {
             "outlinewidth": 0,
             "ticks": ""
            },
            "colorscale": [
             [
              0,
              "#0d0887"
             ],
             [
              0.1111111111111111,
              "#46039f"
             ],
             [
              0.2222222222222222,
              "#7201a8"
             ],
             [
              0.3333333333333333,
              "#9c179e"
             ],
             [
              0.4444444444444444,
              "#bd3786"
             ],
             [
              0.5555555555555556,
              "#d8576b"
             ],
             [
              0.6666666666666666,
              "#ed7953"
             ],
             [
              0.7777777777777778,
              "#fb9f3a"
             ],
             [
              0.8888888888888888,
              "#fdca26"
             ],
             [
              1,
              "#f0f921"
             ]
            ],
            "type": "heatmap"
           }
          ],
          "heatmapgl": [
           {
            "colorbar": {
             "outlinewidth": 0,
             "ticks": ""
            },
            "colorscale": [
             [
              0,
              "#0d0887"
             ],
             [
              0.1111111111111111,
              "#46039f"
             ],
             [
              0.2222222222222222,
              "#7201a8"
             ],
             [
              0.3333333333333333,
              "#9c179e"
             ],
             [
              0.4444444444444444,
              "#bd3786"
             ],
             [
              0.5555555555555556,
              "#d8576b"
             ],
             [
              0.6666666666666666,
              "#ed7953"
             ],
             [
              0.7777777777777778,
              "#fb9f3a"
             ],
             [
              0.8888888888888888,
              "#fdca26"
             ],
             [
              1,
              "#f0f921"
             ]
            ],
            "type": "heatmapgl"
           }
          ],
          "histogram": [
           {
            "marker": {
             "pattern": {
              "fillmode": "overlay",
              "size": 10,
              "solidity": 0.2
             }
            },
            "type": "histogram"
           }
          ],
          "histogram2d": [
           {
            "colorbar": {
             "outlinewidth": 0,
             "ticks": ""
            },
            "colorscale": [
             [
              0,
              "#0d0887"
             ],
             [
              0.1111111111111111,
              "#46039f"
             ],
             [
              0.2222222222222222,
              "#7201a8"
             ],
             [
              0.3333333333333333,
              "#9c179e"
             ],
             [
              0.4444444444444444,
              "#bd3786"
             ],
             [
              0.5555555555555556,
              "#d8576b"
             ],
             [
              0.6666666666666666,
              "#ed7953"
             ],
             [
              0.7777777777777778,
              "#fb9f3a"
             ],
             [
              0.8888888888888888,
              "#fdca26"
             ],
             [
              1,
              "#f0f921"
             ]
            ],
            "type": "histogram2d"
           }
          ],
          "histogram2dcontour": [
           {
            "colorbar": {
             "outlinewidth": 0,
             "ticks": ""
            },
            "colorscale": [
             [
              0,
              "#0d0887"
             ],
             [
              0.1111111111111111,
              "#46039f"
             ],
             [
              0.2222222222222222,
              "#7201a8"
             ],
             [
              0.3333333333333333,
              "#9c179e"
             ],
             [
              0.4444444444444444,
              "#bd3786"
             ],
             [
              0.5555555555555556,
              "#d8576b"
             ],
             [
              0.6666666666666666,
              "#ed7953"
             ],
             [
              0.7777777777777778,
              "#fb9f3a"
             ],
             [
              0.8888888888888888,
              "#fdca26"
             ],
             [
              1,
              "#f0f921"
             ]
            ],
            "type": "histogram2dcontour"
           }
          ],
          "mesh3d": [
           {
            "colorbar": {
             "outlinewidth": 0,
             "ticks": ""
            },
            "type": "mesh3d"
           }
          ],
          "parcoords": [
           {
            "line": {
             "colorbar": {
              "outlinewidth": 0,
              "ticks": ""
             }
            },
            "type": "parcoords"
           }
          ],
          "pie": [
           {
            "automargin": true,
            "type": "pie"
           }
          ],
          "scatter": [
           {
            "fillpattern": {
             "fillmode": "overlay",
             "size": 10,
             "solidity": 0.2
            },
            "type": "scatter"
           }
          ],
          "scatter3d": [
           {
            "line": {
             "colorbar": {
              "outlinewidth": 0,
              "ticks": ""
             }
            },
            "marker": {
             "colorbar": {
              "outlinewidth": 0,
              "ticks": ""
             }
            },
            "type": "scatter3d"
           }
          ],
          "scattercarpet": [
           {
            "marker": {
             "colorbar": {
              "outlinewidth": 0,
              "ticks": ""
             }
            },
            "type": "scattercarpet"
           }
          ],
          "scattergeo": [
           {
            "marker": {
             "colorbar": {
              "outlinewidth": 0,
              "ticks": ""
             }
            },
            "type": "scattergeo"
           }
          ],
          "scattergl": [
           {
            "marker": {
             "colorbar": {
              "outlinewidth": 0,
              "ticks": ""
             }
            },
            "type": "scattergl"
           }
          ],
          "scattermapbox": [
           {
            "marker": {
             "colorbar": {
              "outlinewidth": 0,
              "ticks": ""
             }
            },
            "type": "scattermapbox"
           }
          ],
          "scatterpolar": [
           {
            "marker": {
             "colorbar": {
              "outlinewidth": 0,
              "ticks": ""
             }
            },
            "type": "scatterpolar"
           }
          ],
          "scatterpolargl": [
           {
            "marker": {
             "colorbar": {
              "outlinewidth": 0,
              "ticks": ""
             }
            },
            "type": "scatterpolargl"
           }
          ],
          "scatterternary": [
           {
            "marker": {
             "colorbar": {
              "outlinewidth": 0,
              "ticks": ""
             }
            },
            "type": "scatterternary"
           }
          ],
          "surface": [
           {
            "colorbar": {
             "outlinewidth": 0,
             "ticks": ""
            },
            "colorscale": [
             [
              0,
              "#0d0887"
             ],
             [
              0.1111111111111111,
              "#46039f"
             ],
             [
              0.2222222222222222,
              "#7201a8"
             ],
             [
              0.3333333333333333,
              "#9c179e"
             ],
             [
              0.4444444444444444,
              "#bd3786"
             ],
             [
              0.5555555555555556,
              "#d8576b"
             ],
             [
              0.6666666666666666,
              "#ed7953"
             ],
             [
              0.7777777777777778,
              "#fb9f3a"
             ],
             [
              0.8888888888888888,
              "#fdca26"
             ],
             [
              1,
              "#f0f921"
             ]
            ],
            "type": "surface"
           }
          ],
          "table": [
           {
            "cells": {
             "fill": {
              "color": "#EBF0F8"
             },
             "line": {
              "color": "white"
             }
            },
            "header": {
             "fill": {
              "color": "#C8D4E3"
             },
             "line": {
              "color": "white"
             }
            },
            "type": "table"
           }
          ]
         },
         "layout": {
          "annotationdefaults": {
           "arrowcolor": "#2a3f5f",
           "arrowhead": 0,
           "arrowwidth": 1
          },
          "autotypenumbers": "strict",
          "coloraxis": {
           "colorbar": {
            "outlinewidth": 0,
            "ticks": ""
           }
          },
          "colorscale": {
           "diverging": [
            [
             0,
             "#8e0152"
            ],
            [
             0.1,
             "#c51b7d"
            ],
            [
             0.2,
             "#de77ae"
            ],
            [
             0.3,
             "#f1b6da"
            ],
            [
             0.4,
             "#fde0ef"
            ],
            [
             0.5,
             "#f7f7f7"
            ],
            [
             0.6,
             "#e6f5d0"
            ],
            [
             0.7,
             "#b8e186"
            ],
            [
             0.8,
             "#7fbc41"
            ],
            [
             0.9,
             "#4d9221"
            ],
            [
             1,
             "#276419"
            ]
           ],
           "sequential": [
            [
             0,
             "#0d0887"
            ],
            [
             0.1111111111111111,
             "#46039f"
            ],
            [
             0.2222222222222222,
             "#7201a8"
            ],
            [
             0.3333333333333333,
             "#9c179e"
            ],
            [
             0.4444444444444444,
             "#bd3786"
            ],
            [
             0.5555555555555556,
             "#d8576b"
            ],
            [
             0.6666666666666666,
             "#ed7953"
            ],
            [
             0.7777777777777778,
             "#fb9f3a"
            ],
            [
             0.8888888888888888,
             "#fdca26"
            ],
            [
             1,
             "#f0f921"
            ]
           ],
           "sequentialminus": [
            [
             0,
             "#0d0887"
            ],
            [
             0.1111111111111111,
             "#46039f"
            ],
            [
             0.2222222222222222,
             "#7201a8"
            ],
            [
             0.3333333333333333,
             "#9c179e"
            ],
            [
             0.4444444444444444,
             "#bd3786"
            ],
            [
             0.5555555555555556,
             "#d8576b"
            ],
            [
             0.6666666666666666,
             "#ed7953"
            ],
            [
             0.7777777777777778,
             "#fb9f3a"
            ],
            [
             0.8888888888888888,
             "#fdca26"
            ],
            [
             1,
             "#f0f921"
            ]
           ]
          },
          "colorway": [
           "#636efa",
           "#EF553B",
           "#00cc96",
           "#ab63fa",
           "#FFA15A",
           "#19d3f3",
           "#FF6692",
           "#B6E880",
           "#FF97FF",
           "#FECB52"
          ],
          "font": {
           "color": "#2a3f5f"
          },
          "geo": {
           "bgcolor": "white",
           "lakecolor": "white",
           "landcolor": "#E5ECF6",
           "showlakes": true,
           "showland": true,
           "subunitcolor": "white"
          },
          "hoverlabel": {
           "align": "left"
          },
          "hovermode": "closest",
          "mapbox": {
           "style": "light"
          },
          "paper_bgcolor": "white",
          "plot_bgcolor": "#E5ECF6",
          "polar": {
           "angularaxis": {
            "gridcolor": "white",
            "linecolor": "white",
            "ticks": ""
           },
           "bgcolor": "#E5ECF6",
           "radialaxis": {
            "gridcolor": "white",
            "linecolor": "white",
            "ticks": ""
           }
          },
          "scene": {
           "xaxis": {
            "backgroundcolor": "#E5ECF6",
            "gridcolor": "white",
            "gridwidth": 2,
            "linecolor": "white",
            "showbackground": true,
            "ticks": "",
            "zerolinecolor": "white"
           },
           "yaxis": {
            "backgroundcolor": "#E5ECF6",
            "gridcolor": "white",
            "gridwidth": 2,
            "linecolor": "white",
            "showbackground": true,
            "ticks": "",
            "zerolinecolor": "white"
           },
           "zaxis": {
            "backgroundcolor": "#E5ECF6",
            "gridcolor": "white",
            "gridwidth": 2,
            "linecolor": "white",
            "showbackground": true,
            "ticks": "",
            "zerolinecolor": "white"
           }
          },
          "shapedefaults": {
           "line": {
            "color": "#2a3f5f"
           }
          },
          "ternary": {
           "aaxis": {
            "gridcolor": "white",
            "linecolor": "white",
            "ticks": ""
           },
           "baxis": {
            "gridcolor": "white",
            "linecolor": "white",
            "ticks": ""
           },
           "bgcolor": "#E5ECF6",
           "caxis": {
            "gridcolor": "white",
            "linecolor": "white",
            "ticks": ""
           }
          },
          "title": {
           "x": 0.05
          },
          "xaxis": {
           "automargin": true,
           "gridcolor": "white",
           "linecolor": "white",
           "ticks": "",
           "title": {
            "standoff": 15
           },
           "zerolinecolor": "white",
           "zerolinewidth": 2
          },
          "yaxis": {
           "automargin": true,
           "gridcolor": "white",
           "linecolor": "white",
           "ticks": "",
           "title": {
            "standoff": 15
           },
           "zerolinecolor": "white",
           "zerolinewidth": 2
          }
         }
        },
        "width": 600,
        "xaxis": {
         "title": {
          "text": "x"
         }
        },
        "yaxis": {
         "title": {
          "text": "y"
         }
        }
       }
      }
     },
     "metadata": {},
     "output_type": "display_data"
    }
   ],
   "source": [
    "plotter.plot_measurements(measurements, [0, 2])\n",
    "plotter.fig"
   ]
  },
  {
   "cell_type": "markdown",
   "id": "2f61eb8d-721d-4ed6-84dc-907c3093f666",
   "metadata": {},
   "source": [
    "## Tracing Kalman Means : smoothing t-L"
   ]
  },
  {
   "cell_type": "markdown",
   "id": "365b6cae-87a4-4050-a09c-6f511f9b37b8",
   "metadata": {},
   "source": [
    "## Marginalised Particle Filtering"
   ]
  },
  {
   "cell_type": "markdown",
   "id": "04ebcae6-4bdf-42fa-8806-443e2b18e576",
   "metadata": {},
   "source": [
    "The `MarginalisedParticlePredictor` and `MarginalisedParticleUpdater` classes correspond to the predict and update steps\n",
    "respectively.\n",
    "Both require a `TransitionModel` and a `MeasurementModel` instance respectively.\n",
    "To avoid degenerate samples, the `SystematicResampler` is used which is passed to the updater.\n",
    "More resamplers that are included in Stone Soup are covered in the\n",
    "[Resampler Tutorial](https://stonesoup.readthedocs.io/en/latest/auto_tutorials/sampling/ResamplingTutorial.html#sphx-glr-auto-tutorials-sampling-resamplingtutorial-py)."
   ]
  },
  {
   "cell_type": "code",
   "execution_count": 107,
   "id": "d4284e1f-20e5-4d1f-a5da-06cf0c93a0bf",
   "metadata": {},
   "outputs": [],
   "source": [
    "from stonesoup.predictor.particle import MarginalisedParticlePredictor\n",
    "from stonesoup.resampler.particle import SystematicResampler\n",
    "from stonesoup.updater.particle import MarginalisedParticleUpdater\n",
    "\n",
    "predictor = MarginalisedParticlePredictor(transition_model=transition_model)\n",
    "resampler = SystematicResampler()\n",
    "updater = MarginalisedParticleUpdater(measurement_model,resampler=None)"
   ]
  },
  {
   "cell_type": "markdown",
   "id": "eb779115-7823-4bdb-aad1-74d0e076cbdf",
   "metadata": {},
   "source": [
    "To start we create a prior estimate. This is a `MarginalisedParticleState` which describes the state as a distribution of particles.\n",
    "\n",
    "The mean priors are randomly sampled from the standard normal distribution.\n",
    "\n",
    "The covariance priors is initialised with a scalar multiple of the identity matrix ."
   ]
  },
  {
   "cell_type": "code",
   "execution_count": 108,
   "id": "6edf7062-e0e3-4ab2-8592-31472ad0d987",
   "metadata": {},
   "outputs": [],
   "source": [
    "from scipy.stats import multivariate_normal\n",
    "from stonesoup.types.numeric import Probability  # Similar to a float type\n",
    "from stonesoup.types.state import MarginalisedParticleState\n",
    "from stonesoup.types.array import StateVectors\n",
    "\n",
    "number_particles = 5\n",
    "\n",
    "# Sample from the prior Gaussian distribution\n",
    "states = multivariate_normal.rvs(np.array([0, 1, 0, 1]),\n",
    "                                  np.diag([1., 1., 1., 1.]),\n",
    "                                  size=number_particles)\n",
    "covars = np.stack([np.eye(4) * 100 for i in range(number_particles)], axis=2) # (M, M, N)\n",
    "\n",
    "# Create prior particle state.\n",
    "prior = MarginalisedParticleState(\n",
    "    state_vector=StateVectors(states.T),\n",
    "    covariance=covars,\n",
    "    weight=np.array([Probability(1/number_particles)]*number_particles),\n",
    "                      timestamp=start_time-timedelta(seconds=1))\n",
    "\n"
   ]
  },
  {
   "cell_type": "markdown",
   "id": "266fb70b-88a0-4a8d-a0e4-b7911a34be09",
   "metadata": {},
   "source": [
    "## Step 3: Integrate Smoothing into the Filtering Loop\n",
    "After running the forward filtering loop, we can call the backward_smoothing function to obtain smoothed estimates."
   ]
  },
  {
   "cell_type": "code",
   "execution_count": 109,
   "id": "10ac5271-b7b3-44b8-9324-ef1b74d9f974",
   "metadata": {},
   "outputs": [
    {
     "name": "stdout",
     "output_type": "stream",
     "text": [
      "[Probability(0.2), Probability(0.2), Probability(0.2), Probability(0.2), Probability(0.2)]\n",
      "[Probability(0.19999813145270856), Probability(0.19999311940229095), Probability(0.19999911820781985), Probability(0.20000426074592548), Probability(0.20000537019125528)]\n",
      "[Probability(0.20011568052963777), Probability(0.1997034088261613), Probability(0.1998224376162708), Probability(0.20027395127030773), Probability(0.20008452175762254)]\n",
      "[Probability(0.20337751447182278), Probability(0.19526819480067442), Probability(0.20191726061268722), Probability(0.20338542090656564), Probability(0.19605160920824988)]\n",
      "[Probability(0.20340198644863902), Probability(0.19519616703423134), Probability(0.2019770384753985), Probability(0.20334979037633152), Probability(0.1960750176653994)]\n",
      "[Probability(0.20353434175356294), Probability(0.19515151062500197), Probability(0.20177018006979353), Probability(0.20334774262961045), Probability(0.1961962249220312)]\n"
     ]
    }
   ],
   "source": [
    "from stonesoup.types.hypothesis import SingleHypothesis\n",
    "from stonesoup.types.particle import Particle\n",
    "from stonesoup.types.track import Track\n",
    "\n",
    "# Check if `history` is in the class attributes\n",
    "# print(dir(Particle))\n",
    "\n",
    "\n",
    "# Perform forward filtering as before\n",
    "track = Track()\n",
    "\n",
    "predictions=[]\n",
    "\n",
    "particle_weights = []\n",
    "particle_means = []\n",
    "particle_covars = []\n",
    "\n",
    "for measurement in measurements:\n",
    "    prediction = predictor.predict(prior, timestamp=measurement.timestamp)\n",
    "    # List of all the sets of particles at each time\n",
    "    predictions.append(prediction)\n",
    "    # print([particle.weight for particle in prediction])\n",
    "\n",
    "    hypothesis = SingleHypothesis(prediction, measurement)\n",
    "    post = updater.update(hypothesis)\n",
    "    print([particle.weight for particle in hypothesis.prediction])\n",
    "    # print([particle.weight for particle in post])\n",
    "    # print(prediction)\n",
    "    # print(hypothesis)\n",
    "    # print(post)\n",
    "\n",
    "    track.append(post)\n",
    "    prior = track[-1]"
   ]
  },
  {
   "cell_type": "markdown",
   "id": "3d028f71",
   "metadata": {},
   "source": [
    "Rao-Blackwellized Particle smoother based on [3]"
   ]
  },
  {
   "cell_type": "markdown",
   "id": "688e76b6-3183-48c7-b7f9-2a27ae860bfa",
   "metadata": {},
   "source": [
    "## Step 4: Plot the resulting track with the sample points at each iteration. Can also change 'plot_history' to True if wanted."
   ]
  },
  {
   "cell_type": "code",
   "execution_count": 110,
   "id": "3723a334-818d-4a10-8705-5e0e5a65d003",
   "metadata": {},
   "outputs": [
    {
     "data": {
      "application/vnd.plotly.v1+json": {
       "config": {
        "plotlyServerURL": "https://plot.ly"
       },
       "data": [
        {
         "legendgroup": "Ground Truth",
         "legendrank": 100,
         "line": {
          "dash": "dash"
         },
         "mode": "lines",
         "name": "Ground Truth",
         "showlegend": true,
         "text": [
          "GroundTruthState<br>[[0]\n [1]\n [0]\n [1]]<br>2024-11-05 11:54:20",
          "GroundTruthState<br>[[-2.30419745]\n [-5.84760842]\n [ 0.6991504 ]\n [ 2.537487  ]]<br>2024-11-05 11:54:21",
          "GroundTruthState<br>[[-7.66601679]\n [-5.70574346]\n [ 2.19051091]\n [ 1.77747814]]<br>2024-11-05 11:54:22",
          "GroundTruthState<br>[[-13.162837  ]\n [ -5.65109917]\n [  2.79898105]\n [ -0.35947115]]<br>2024-11-05 11:54:23",
          "GroundTruthState<br>[[-17.7838805 ]\n [ -4.53818728]\n [  3.32944883]\n [  0.29269278]]<br>2024-11-05 11:54:24",
          "GroundTruthState<br>[[-25.0283455 ]\n [-10.89599934]\n [  4.56360952]\n [  2.34506157]]<br>2024-11-05 11:54:25"
         ],
         "type": "scatter",
         "x": [
          0,
          -2.3041974450277456,
          -7.666016789757846,
          -13.162836998971459,
          -17.783880503655507,
          -25.02834550156593
         ],
         "y": [
          0,
          0.6991504012338499,
          2.190510911801507,
          2.798981051487619,
          3.3294488275123917,
          4.563609516734328
         ]
        },
        {
         "legendgroup": "Measurements<br>(Detections)",
         "legendrank": 200,
         "marker": {
          "color": "#636EFA"
         },
         "mode": "markers",
         "name": "Measurements<br>(Detections)",
         "showlegend": true,
         "text": [
          "Detection<br>[[-8.47522338]\n [ 2.46970934]]<br>2024-11-05 11:54:22",
          "Detection<br>[[ 1.30259157]\n [-0.46977795]]<br>2024-11-05 11:54:20",
          "Detection<br>[[-13.43008302]\n [  3.20539853]]<br>2024-11-05 11:54:23",
          "Detection<br>[[-17.06667975]\n [  3.69327552]]<br>2024-11-05 11:54:24",
          "Detection<br>[[-2.44007161]\n [ 1.02294401]]<br>2024-11-05 11:54:21",
          "Detection<br>[[-25.24579438]\n [  4.71261896]]<br>2024-11-05 11:54:25"
         ],
         "type": "scatter",
         "x": [
          -8.47522337927162,
          1.302591567973156,
          -13.430083022958108,
          -17.06667975411817,
          -2.4400716133022913,
          -25.24579438384058
         ],
         "y": [
          2.469709339331512,
          -0.4697779545506622,
          3.2053985271456726,
          3.693275521796281,
          1.0229440052422225,
          4.712618959298146
         ]
        },
        {
         "legendgroup": "Tracks",
         "legendrank": 300,
         "marker": {
          "symbol": [
           "square",
           "square",
           "square",
           "square",
           "square",
           "square"
          ]
         },
         "mode": "markers+lines",
         "name": "Tracks",
         "showlegend": true,
         "text": [
          "MarginalisedParticleStateUpdate<br>[[ 1.30132874]\n [ 0.95125184]\n [-0.46665643]\n [-0.16660538]]<br>2024-11-05 11:54:20",
          "MarginalisedParticleStateUpdate<br>[[-2.40598609]\n [-4.32523195]\n [ 1.01112439]\n [ 1.65955997]]<br>2024-11-05 11:54:21",
          "MarginalisedParticleStateUpdate<br>[[-8.3750379 ]\n [-6.12985012]\n [ 2.46971507]\n [ 1.35368352]]<br>2024-11-05 11:54:22",
          "MarginalisedParticleStateUpdate<br>[[-13.44344819]\n [ -4.57951187]\n [  3.226836  ]\n [  0.35878447]]<br>2024-11-05 11:54:23",
          "MarginalisedParticleStateUpdate<br>[[-17.08841036]\n [ -3.27208542]\n [  3.69472806]\n [  0.43868188]]<br>2024-11-05 11:54:24",
          "MarginalisedParticleStateUpdate<br>[[-24.91260478]\n [ -8.18373366]\n [  4.67323504]\n [  1.02049222]]<br>2024-11-05 11:54:25"
         ],
         "type": "scatter",
         "x": [
          1.301328741733594,
          -2.4059860911845132,
          -8.375037896791344,
          -13.443448189158875,
          -17.08841036238079,
          -24.912604780224065
         ],
         "y": [
          -0.4666564331009101,
          1.0111243869386515,
          2.4697150662609677,
          3.226835995353184,
          3.694728060609159,
          4.673235041193779
         ]
        },
        {
         "fill": "toself",
         "fillcolor": "#00CC96",
         "hoverinfo": "skip",
         "legendgroup": "Tracks<br>(Ellipses)",
         "legendrank": 310,
         "mode": "none",
         "name": "Tracks<br>(Ellipses)",
         "opacity": 0.2,
         "showlegend": true,
         "type": "scatter",
         "x": [
          1.065039296633714,
          1.2085948295549969,
          1.3562032794251653,
          1.5014134486809656,
          1.6378789561302192,
          1.7596356042632357,
          1.8613620433033835,
          1.9386123397269948,
          1.988010284892309,
          2.0073969515579613,
          1.9959250493631158,
          1.9540959554819808,
          1.8837378020354234,
          1.7879255779449374,
          1.6708467371613367,
          1.5376181868334744,
          1.3940626539121914,
          1.2464542040420235,
          1.101244034786223,
          0.9647785273369693,
          0.8430218792039527,
          0.7412954401638052,
          0.6640451437401935,
          0.6146471985748792,
          0.5952605319092263,
          0.6067324341040721,
          0.6485615279852069,
          0.718919681431764,
          0.8147319055222504,
          0.9318107463058503,
          1.065039296633714
         ],
         "y": [
          0.1989686996215293,
          0.23355081366829922,
          0.23753051106410206,
          0.21073385993603477,
          0.15433200252299184,
          0.07078997064006332,
          -0.03624104804032163,
          -0.16208328441001968,
          -0.30123682888162867,
          -0.4476200038289485,
          -0.5948351620823757,
          -0.7364482948095303,
          -0.8662702285750321,
          -0.9786271219185734,
          -1.0686084394528508,
          -1.1322815658233494,
          -1.166863679870119,
          -1.1708433772659224,
          -1.144046726137855,
          -1.0876448687248126,
          -1.0041028368418838,
          -0.8970718181614996,
          -0.7712295817918013,
          -0.6320760373201917,
          -0.4856928623728713,
          -0.33847770411944444,
          -0.19686457139229024,
          -0.06704263762678875,
          0.04531425571675307,
          0.13529557325102992,
          0.1989686996215293
         ]
        },
        {
         "fill": "toself",
         "fillcolor": "#00CC96",
         "hoverinfo": "skip",
         "legendgroup": "Tracks<br>(Ellipses)",
         "legendrank": 310,
         "mode": "none",
         "name": "Tracks<br>(Ellipses)",
         "opacity": 0.2,
         "showlegend": false,
         "type": "scatter",
         "x": [
          -2.222182432154724,
          -2.0847465327897554,
          -1.9613503436050634,
          -1.857386870188629,
          -1.7773998152008452,
          -1.724884996765152,
          -1.7021375644412466,
          -1.7101516901759741,
          -1.7485771182186853,
          -1.8157344729782525,
          -1.908688655794941,
          -2.023377122836004,
          -2.1547874377554237,
          -2.297176339214569,
          -2.4443207489619208,
          -2.589789750214302,
          -2.7272256495792706,
          -2.850621838763963,
          -2.9545853121803973,
          -3.034572367168181,
          -3.0870871856038744,
          -3.10983461792778,
          -3.1018204921930526,
          -3.063395064150341,
          -2.996237709390774,
          -2.9032835265740857,
          -2.7885950595330224,
          -2.6571847446136028,
          -2.514795843154457,
          -2.367651433407106,
          -2.222182432154724
         ],
         "y": [
          1.691330115843264,
          1.6382430263525365,
          1.5577478430703193,
          1.4533625917647897,
          1.3296494088140083,
          1.1920151539546398,
          1.0464751045664682,
          0.8993900591863975,
          0.7571883400898911,
          0.626084844761021,
          0.511809425050027,
          0.4193564651525832,
          0.35276660305472973,
          0.31495013526375304,
          0.30755982288566397,
          0.33091865803403886,
          0.38400574752476635,
          0.4645009308069836,
          0.5688861821125133,
          0.6925993650632944,
          0.8302336199226629,
          0.9757736693108346,
          1.1228587146909048,
          1.2650604337874123,
          1.396163929116282,
          1.5104393488272754,
          1.6028923087247196,
          1.6694821708225733,
          1.7072986386135502,
          1.714688950991639,
          1.691330115843264
         ]
        },
        {
         "fill": "toself",
         "fillcolor": "#00CC96",
         "hoverinfo": "skip",
         "legendgroup": "Tracks<br>(Ellipses)",
         "legendrank": 310,
         "mode": "none",
         "name": "Tracks<br>(Ellipses)",
         "opacity": 0.2,
         "showlegend": false,
         "type": "scatter",
         "x": [
          -8.328854644585862,
          -8.185375666080247,
          -8.050185837157066,
          -7.929193602053031,
          -7.82768690202735,
          -7.75010206695433,
          -7.699829926420009,
          -7.679067614198231,
          -7.688722542961714,
          -7.7283727459940055,
          -7.7962853191598125,
          -7.889492157131105,
          -8.00391967383251,
          -8.134566837700028,
          -8.275723740758,
          -8.421221148996826,
          -8.56470012750244,
          -8.699889956425622,
          -8.820882191529657,
          -8.92238889155534,
          -8.999973726628358,
          -9.050245867162678,
          -9.071008179384457,
          -9.061353250620975,
          -9.021703047588682,
          -8.953790474422876,
          -8.860583636451583,
          -8.746156119750179,
          -8.61550895588266,
          -8.474352052824687,
          -8.328854644585862
         ],
         "y": [
          3.160234642150426,
          3.1354814896634746,
          3.081631149772087,
          3.001037140732118,
          2.8972218074715763,
          2.7747223782151873,
          2.6388926658389336,
          2.4956690805569313,
          2.3513111803090174,
          2.2121280980420854,
          2.084202802325729,
          1.9731262424364266,
          1.883752997045812,
          1.819989105837867,
          1.7846213568314768,
          1.7791954903715093,
          1.8039486428584608,
          1.8577989827498484,
          1.9383929917898173,
          2.0422083250503587,
          2.1647077543067472,
          2.300537466683002,
          2.4437610519650037,
          2.588118952212918,
          2.7273020344798495,
          2.8552273301962066,
          2.966303890085509,
          3.0556771354761234,
          3.1194410266840684,
          3.1548087756904586,
          3.160234642150426
         ]
        },
        {
         "fill": "toself",
         "fillcolor": "#00CC96",
         "hoverinfo": "skip",
         "legendgroup": "Tracks<br>(Ellipses)",
         "legendrank": 310,
         "mode": "none",
         "name": "Tracks<br>(Ellipses)",
         "opacity": 0.2,
         "showlegend": false,
         "type": "scatter",
         "x": [
          -12.849957021857902,
          -12.93710348882341,
          -13.046379648905024,
          -13.173009609541982,
          -13.311459033816481,
          -13.45567701753368,
          -13.599360542770471,
          -13.736229950003956,
          -13.86030338936575,
          -13.966158256185324,
          -14.049168184834654,
          -14.105705243105936,
          -14.133298490257808,
          -14.130741968982644,
          -14.098147411527718,
          -14.036939356459849,
          -13.94979288949434,
          -13.840516729412727,
          -13.713886768775769,
          -13.57543734450127,
          -13.43121936078407,
          -13.28753583554728,
          -13.150666428313794,
          -13.026592988952,
          -12.920738122132427,
          -12.837728193483096,
          -12.781191135211815,
          -12.753597888059943,
          -12.756154409335107,
          -12.788748966790033,
          -12.849957021857902
         ],
         "y": [
          2.870085012856857,
          2.7544795379286167,
          2.6595183068075903,
          2.589351580968309,
          2.547045983027257,
          2.5344504706192397,
          2.5521155280764614,
          2.5992691076216916,
          2.673850371560825,
          2.772599760779111,
          2.891201453115567,
          3.024471985501029,
          3.166586796167286,
          3.3113347859457005,
          3.4523897731050375,
          3.5835869778495115,
          3.6991924527777518,
          3.794153683898778,
          3.8643204097380592,
          3.9066260076791113,
          3.9192215200871288,
          3.9015564626299066,
          3.854402883084677,
          3.779821619145543,
          3.6810722299272576,
          3.562470537590801,
          3.4292000052053386,
          3.2870851945390824,
          3.142337204760668,
          3.00128221760133,
          2.870085012856857
         ]
        },
        {
         "fill": "toself",
         "fillcolor": "#00CC96",
         "hoverinfo": "skip",
         "legendgroup": "Tracks<br>(Ellipses)",
         "legendrank": 310,
         "mode": "none",
         "name": "Tracks<br>(Ellipses)",
         "opacity": 0.2,
         "showlegend": false,
         "type": "scatter",
         "x": [
          -16.8320375483411,
          -16.70346020523828,
          -16.591707031198382,
          -16.50166217617818,
          -16.43726103242521,
          -16.401318238952445,
          -16.395404668307307,
          -16.419778771903452,
          -16.473375284453798,
          -16.553851781175297,
          -16.65769105299214,
          -16.780354825449823,
          -16.916482103085862,
          -17.06012347065641,
          -17.20500111113088,
          -17.344783176420485,
          -17.473360519523304,
          -17.5851136935632,
          -17.675158548583404,
          -17.739559692336375,
          -17.775502485809138,
          -17.781416056454276,
          -17.75704195285813,
          -17.703445440307785,
          -17.622968943586287,
          -17.519129671769445,
          -17.39646589931176,
          -17.26033862167572,
          -17.116697254105173,
          -16.971819613630704,
          -16.8320375483411
         ],
         "y": [
          4.33994994028461,
          4.272535257210932,
          4.179867627019209,
          4.065997069817444,
          3.9359002753669117,
          3.795263097858782,
          3.650232056802211,
          3.507145704627519,
          3.3722576015292356,
          3.251463004877687,
          3.150041218183331,
          3.072424860200438,
          3.022006138217469,
          3.0009885923209505,
          3.0102907901199343,
          3.049506180933708,
          3.116920864007386,
          3.209588494199109,
          3.323459051400874,
          3.4535558458514064,
          3.5941930233595367,
          3.739224064416107,
          3.8823104165907987,
          4.0171985196890825,
          4.137993116340631,
          4.239414903034987,
          4.31703126101788,
          4.367449983000849,
          4.388467528897368,
          4.379165331098384,
          4.33994994028461
         ]
        },
        {
         "fill": "toself",
         "fillcolor": "#00CC96",
         "hoverinfo": "skip",
         "legendgroup": "Tracks<br>(Ellipses)",
         "legendrank": 310,
         "mode": "none",
         "name": "Tracks<br>(Ellipses)",
         "opacity": 0.2,
         "showlegend": false,
         "type": "scatter",
         "x": [
          -24.840509191381397,
          -24.700199837826712,
          -24.56917359948679,
          -24.453156951710724,
          -24.357220378715983,
          -24.285556769097184,
          -24.241298166474817,
          -24.22637888415982,
          -24.24145096638002,
          -24.285855690818522,
          -24.35765235793985,
          -24.45370310887217,
          -24.569810064897098,
          -24.700898794893362,
          -24.841240092326604,
          -24.984700369066733,
          -25.125009722621417,
          -25.25603596096134,
          -25.372052608737405,
          -25.467989181732147,
          -25.539652791350946,
          -25.583911393973313,
          -25.59883067628831,
          -25.583758594068108,
          -25.539353869629608,
          -25.46755720250828,
          -25.37150645157596,
          -25.255399495551032,
          -25.124310765554767,
          -24.983969468121526,
          -24.840509191381397
         ],
         "y": [
          5.3532617676242085,
          5.323359100226505,
          5.265042891807719,
          5.180861840507964,
          5.074495062214541,
          4.950591295543303,
          4.814565729654022,
          4.672363334499142,
          4.530199037109731,
          4.394286099461691,
          4.270564569112874,
          4.164441670621295,
          4.0805554838852025,
          4.022572237795546,
          3.993026078440929,
          3.99320831476335,
          4.023110982161053,
          4.08142719057984,
          4.165608241879594,
          4.271975020173017,
          4.395878786844254,
          4.531904352733536,
          4.674106747888416,
          4.816271045277828,
          4.952183982925868,
          5.075905513274684,
          5.182028411766263,
          5.265914598502356,
          5.323897844592012,
          5.353444003946629,
          5.3532617676242085
         ]
        },
        {
         "hoverinfo": "skip",
         "legendgroup": "Tracks<br>(Particles)",
         "legendrank": 320,
         "marker": {
          "size": 2
         },
         "mode": "markers",
         "name": "Tracks<br>(Particles)",
         "opacity": 0.4,
         "showlegend": true,
         "type": "scattergl",
         "x": [
          1.2978854349022475,
          1.3048179950546128,
          1.2973102774731327,
          1.3048930895241004,
          1.301736894974252
         ],
         "y": [
          -0.46586560069644967,
          -0.4621912540917301,
          -0.4676265916487539,
          -0.46854876095117826,
          -0.46904969681472897
         ]
        },
        {
         "hoverinfo": "skip",
         "legendgroup": "Tracks<br>(Particles)",
         "legendrank": 320,
         "marker": {
          "size": 2
         },
         "mode": "markers",
         "name": "Tracks<br>(Particles)",
         "opacity": 0.4,
         "showlegend": false,
         "type": "scattergl",
         "x": [
          -2.4106990877952055,
          -2.388543428182053,
          -2.3926809299378946,
          -2.427940941352152,
          -2.4099938969359367
         ],
         "y": [
          1.0144550696459493,
          1.005142752629255,
          1.0102828079499884,
          1.0176793390771406,
          1.0080427448933478
         ]
        },
        {
         "hoverinfo": "skip",
         "legendgroup": "Tracks<br>(Particles)",
         "legendrank": 320,
         "marker": {
          "size": 2
         },
         "mode": "markers",
         "name": "Tracks<br>(Particles)",
         "opacity": 0.4,
         "showlegend": false,
         "type": "scattergl",
         "x": [
          -8.464098528447126,
          -8.278443230710852,
          -8.398036650597902,
          -8.444101056449366,
          -8.2835244985321
         ],
         "y": [
          2.4794344277140987,
          2.458592756469945,
          2.4698626077255668,
          2.470913259062291,
          2.4693154146815517
         ]
        },
        {
         "hoverinfo": "skip",
         "legendgroup": "Tracks<br>(Particles)",
         "legendrank": 320,
         "marker": {
          "size": 2
         },
         "mode": "markers",
         "name": "Tracks<br>(Particles)",
         "opacity": 0.4,
         "showlegend": false,
         "type": "scattergl",
         "x": [
          -13.438783715671127,
          -13.447077148128814,
          -13.450880796582748,
          -13.447490321765653,
          -13.432825833558468
         ],
         "y": [
          3.229006951251604,
          3.2342691686129825,
          3.2103810458984636,
          3.230409902085988,
          3.230427809910322
         ]
        },
        {
         "hoverinfo": "skip",
         "legendgroup": "Tracks<br>(Particles)",
         "legendrank": 320,
         "marker": {
          "size": 2
         },
         "mode": "markers",
         "name": "Tracks<br>(Particles)",
         "opacity": 0.4,
         "showlegend": false,
         "type": "scattergl",
         "x": [
          -17.07098267212376,
          -17.096898044100755,
          -17.107080022468804,
          -17.09289950927688,
          -17.07419454853848
         ],
         "y": [
          3.6881692828012405,
          3.696553233058457,
          3.702634808793991,
          3.6974802509395,
          3.6887328059438946
         ]
        },
        {
         "hoverinfo": "skip",
         "legendgroup": "Tracks<br>(Particles)",
         "legendrank": 320,
         "marker": {
          "size": 2
         },
         "mode": "markers",
         "name": "Tracks<br>(Particles)",
         "opacity": 0.4,
         "showlegend": false,
         "type": "scattergl",
         "x": [
          -24.85233852973273,
          -24.99871435554562,
          -24.916282127429717,
          -24.941350045712547,
          -24.844846230266633
         ],
         "y": [
          4.668833956198364,
          4.682528144247676,
          4.673962379980548,
          4.675629721091042,
          4.664154239793296
         ]
        }
       ],
       "layout": {
        "autosize": false,
        "colorway": [
         "#636EFA",
         "#EF553B",
         "#00CC96",
         "#AB63FA",
         "#FFA15A",
         "#19D3F3",
         "#FF6692",
         "#B6E880",
         "#FF97FF",
         "#FECB52"
        ],
        "height": 600,
        "template": {
         "data": {
          "bar": [
           {
            "error_x": {
             "color": "#2a3f5f"
            },
            "error_y": {
             "color": "#2a3f5f"
            },
            "marker": {
             "line": {
              "color": "#E5ECF6",
              "width": 0.5
             },
             "pattern": {
              "fillmode": "overlay",
              "size": 10,
              "solidity": 0.2
             }
            },
            "type": "bar"
           }
          ],
          "barpolar": [
           {
            "marker": {
             "line": {
              "color": "#E5ECF6",
              "width": 0.5
             },
             "pattern": {
              "fillmode": "overlay",
              "size": 10,
              "solidity": 0.2
             }
            },
            "type": "barpolar"
           }
          ],
          "carpet": [
           {
            "aaxis": {
             "endlinecolor": "#2a3f5f",
             "gridcolor": "white",
             "linecolor": "white",
             "minorgridcolor": "white",
             "startlinecolor": "#2a3f5f"
            },
            "baxis": {
             "endlinecolor": "#2a3f5f",
             "gridcolor": "white",
             "linecolor": "white",
             "minorgridcolor": "white",
             "startlinecolor": "#2a3f5f"
            },
            "type": "carpet"
           }
          ],
          "choropleth": [
           {
            "colorbar": {
             "outlinewidth": 0,
             "ticks": ""
            },
            "type": "choropleth"
           }
          ],
          "contour": [
           {
            "colorbar": {
             "outlinewidth": 0,
             "ticks": ""
            },
            "colorscale": [
             [
              0,
              "#0d0887"
             ],
             [
              0.1111111111111111,
              "#46039f"
             ],
             [
              0.2222222222222222,
              "#7201a8"
             ],
             [
              0.3333333333333333,
              "#9c179e"
             ],
             [
              0.4444444444444444,
              "#bd3786"
             ],
             [
              0.5555555555555556,
              "#d8576b"
             ],
             [
              0.6666666666666666,
              "#ed7953"
             ],
             [
              0.7777777777777778,
              "#fb9f3a"
             ],
             [
              0.8888888888888888,
              "#fdca26"
             ],
             [
              1,
              "#f0f921"
             ]
            ],
            "type": "contour"
           }
          ],
          "contourcarpet": [
           {
            "colorbar": {
             "outlinewidth": 0,
             "ticks": ""
            },
            "type": "contourcarpet"
           }
          ],
          "heatmap": [
           {
            "colorbar": {
             "outlinewidth": 0,
             "ticks": ""
            },
            "colorscale": [
             [
              0,
              "#0d0887"
             ],
             [
              0.1111111111111111,
              "#46039f"
             ],
             [
              0.2222222222222222,
              "#7201a8"
             ],
             [
              0.3333333333333333,
              "#9c179e"
             ],
             [
              0.4444444444444444,
              "#bd3786"
             ],
             [
              0.5555555555555556,
              "#d8576b"
             ],
             [
              0.6666666666666666,
              "#ed7953"
             ],
             [
              0.7777777777777778,
              "#fb9f3a"
             ],
             [
              0.8888888888888888,
              "#fdca26"
             ],
             [
              1,
              "#f0f921"
             ]
            ],
            "type": "heatmap"
           }
          ],
          "heatmapgl": [
           {
            "colorbar": {
             "outlinewidth": 0,
             "ticks": ""
            },
            "colorscale": [
             [
              0,
              "#0d0887"
             ],
             [
              0.1111111111111111,
              "#46039f"
             ],
             [
              0.2222222222222222,
              "#7201a8"
             ],
             [
              0.3333333333333333,
              "#9c179e"
             ],
             [
              0.4444444444444444,
              "#bd3786"
             ],
             [
              0.5555555555555556,
              "#d8576b"
             ],
             [
              0.6666666666666666,
              "#ed7953"
             ],
             [
              0.7777777777777778,
              "#fb9f3a"
             ],
             [
              0.8888888888888888,
              "#fdca26"
             ],
             [
              1,
              "#f0f921"
             ]
            ],
            "type": "heatmapgl"
           }
          ],
          "histogram": [
           {
            "marker": {
             "pattern": {
              "fillmode": "overlay",
              "size": 10,
              "solidity": 0.2
             }
            },
            "type": "histogram"
           }
          ],
          "histogram2d": [
           {
            "colorbar": {
             "outlinewidth": 0,
             "ticks": ""
            },
            "colorscale": [
             [
              0,
              "#0d0887"
             ],
             [
              0.1111111111111111,
              "#46039f"
             ],
             [
              0.2222222222222222,
              "#7201a8"
             ],
             [
              0.3333333333333333,
              "#9c179e"
             ],
             [
              0.4444444444444444,
              "#bd3786"
             ],
             [
              0.5555555555555556,
              "#d8576b"
             ],
             [
              0.6666666666666666,
              "#ed7953"
             ],
             [
              0.7777777777777778,
              "#fb9f3a"
             ],
             [
              0.8888888888888888,
              "#fdca26"
             ],
             [
              1,
              "#f0f921"
             ]
            ],
            "type": "histogram2d"
           }
          ],
          "histogram2dcontour": [
           {
            "colorbar": {
             "outlinewidth": 0,
             "ticks": ""
            },
            "colorscale": [
             [
              0,
              "#0d0887"
             ],
             [
              0.1111111111111111,
              "#46039f"
             ],
             [
              0.2222222222222222,
              "#7201a8"
             ],
             [
              0.3333333333333333,
              "#9c179e"
             ],
             [
              0.4444444444444444,
              "#bd3786"
             ],
             [
              0.5555555555555556,
              "#d8576b"
             ],
             [
              0.6666666666666666,
              "#ed7953"
             ],
             [
              0.7777777777777778,
              "#fb9f3a"
             ],
             [
              0.8888888888888888,
              "#fdca26"
             ],
             [
              1,
              "#f0f921"
             ]
            ],
            "type": "histogram2dcontour"
           }
          ],
          "mesh3d": [
           {
            "colorbar": {
             "outlinewidth": 0,
             "ticks": ""
            },
            "type": "mesh3d"
           }
          ],
          "parcoords": [
           {
            "line": {
             "colorbar": {
              "outlinewidth": 0,
              "ticks": ""
             }
            },
            "type": "parcoords"
           }
          ],
          "pie": [
           {
            "automargin": true,
            "type": "pie"
           }
          ],
          "scatter": [
           {
            "fillpattern": {
             "fillmode": "overlay",
             "size": 10,
             "solidity": 0.2
            },
            "type": "scatter"
           }
          ],
          "scatter3d": [
           {
            "line": {
             "colorbar": {
              "outlinewidth": 0,
              "ticks": ""
             }
            },
            "marker": {
             "colorbar": {
              "outlinewidth": 0,
              "ticks": ""
             }
            },
            "type": "scatter3d"
           }
          ],
          "scattercarpet": [
           {
            "marker": {
             "colorbar": {
              "outlinewidth": 0,
              "ticks": ""
             }
            },
            "type": "scattercarpet"
           }
          ],
          "scattergeo": [
           {
            "marker": {
             "colorbar": {
              "outlinewidth": 0,
              "ticks": ""
             }
            },
            "type": "scattergeo"
           }
          ],
          "scattergl": [
           {
            "marker": {
             "colorbar": {
              "outlinewidth": 0,
              "ticks": ""
             }
            },
            "type": "scattergl"
           }
          ],
          "scattermapbox": [
           {
            "marker": {
             "colorbar": {
              "outlinewidth": 0,
              "ticks": ""
             }
            },
            "type": "scattermapbox"
           }
          ],
          "scatterpolar": [
           {
            "marker": {
             "colorbar": {
              "outlinewidth": 0,
              "ticks": ""
             }
            },
            "type": "scatterpolar"
           }
          ],
          "scatterpolargl": [
           {
            "marker": {
             "colorbar": {
              "outlinewidth": 0,
              "ticks": ""
             }
            },
            "type": "scatterpolargl"
           }
          ],
          "scatterternary": [
           {
            "marker": {
             "colorbar": {
              "outlinewidth": 0,
              "ticks": ""
             }
            },
            "type": "scatterternary"
           }
          ],
          "surface": [
           {
            "colorbar": {
             "outlinewidth": 0,
             "ticks": ""
            },
            "colorscale": [
             [
              0,
              "#0d0887"
             ],
             [
              0.1111111111111111,
              "#46039f"
             ],
             [
              0.2222222222222222,
              "#7201a8"
             ],
             [
              0.3333333333333333,
              "#9c179e"
             ],
             [
              0.4444444444444444,
              "#bd3786"
             ],
             [
              0.5555555555555556,
              "#d8576b"
             ],
             [
              0.6666666666666666,
              "#ed7953"
             ],
             [
              0.7777777777777778,
              "#fb9f3a"
             ],
             [
              0.8888888888888888,
              "#fdca26"
             ],
             [
              1,
              "#f0f921"
             ]
            ],
            "type": "surface"
           }
          ],
          "table": [
           {
            "cells": {
             "fill": {
              "color": "#EBF0F8"
             },
             "line": {
              "color": "white"
             }
            },
            "header": {
             "fill": {
              "color": "#C8D4E3"
             },
             "line": {
              "color": "white"
             }
            },
            "type": "table"
           }
          ]
         },
         "layout": {
          "annotationdefaults": {
           "arrowcolor": "#2a3f5f",
           "arrowhead": 0,
           "arrowwidth": 1
          },
          "autotypenumbers": "strict",
          "coloraxis": {
           "colorbar": {
            "outlinewidth": 0,
            "ticks": ""
           }
          },
          "colorscale": {
           "diverging": [
            [
             0,
             "#8e0152"
            ],
            [
             0.1,
             "#c51b7d"
            ],
            [
             0.2,
             "#de77ae"
            ],
            [
             0.3,
             "#f1b6da"
            ],
            [
             0.4,
             "#fde0ef"
            ],
            [
             0.5,
             "#f7f7f7"
            ],
            [
             0.6,
             "#e6f5d0"
            ],
            [
             0.7,
             "#b8e186"
            ],
            [
             0.8,
             "#7fbc41"
            ],
            [
             0.9,
             "#4d9221"
            ],
            [
             1,
             "#276419"
            ]
           ],
           "sequential": [
            [
             0,
             "#0d0887"
            ],
            [
             0.1111111111111111,
             "#46039f"
            ],
            [
             0.2222222222222222,
             "#7201a8"
            ],
            [
             0.3333333333333333,
             "#9c179e"
            ],
            [
             0.4444444444444444,
             "#bd3786"
            ],
            [
             0.5555555555555556,
             "#d8576b"
            ],
            [
             0.6666666666666666,
             "#ed7953"
            ],
            [
             0.7777777777777778,
             "#fb9f3a"
            ],
            [
             0.8888888888888888,
             "#fdca26"
            ],
            [
             1,
             "#f0f921"
            ]
           ],
           "sequentialminus": [
            [
             0,
             "#0d0887"
            ],
            [
             0.1111111111111111,
             "#46039f"
            ],
            [
             0.2222222222222222,
             "#7201a8"
            ],
            [
             0.3333333333333333,
             "#9c179e"
            ],
            [
             0.4444444444444444,
             "#bd3786"
            ],
            [
             0.5555555555555556,
             "#d8576b"
            ],
            [
             0.6666666666666666,
             "#ed7953"
            ],
            [
             0.7777777777777778,
             "#fb9f3a"
            ],
            [
             0.8888888888888888,
             "#fdca26"
            ],
            [
             1,
             "#f0f921"
            ]
           ]
          },
          "colorway": [
           "#636efa",
           "#EF553B",
           "#00cc96",
           "#ab63fa",
           "#FFA15A",
           "#19d3f3",
           "#FF6692",
           "#B6E880",
           "#FF97FF",
           "#FECB52"
          ],
          "font": {
           "color": "#2a3f5f"
          },
          "geo": {
           "bgcolor": "white",
           "lakecolor": "white",
           "landcolor": "#E5ECF6",
           "showlakes": true,
           "showland": true,
           "subunitcolor": "white"
          },
          "hoverlabel": {
           "align": "left"
          },
          "hovermode": "closest",
          "mapbox": {
           "style": "light"
          },
          "paper_bgcolor": "white",
          "plot_bgcolor": "#E5ECF6",
          "polar": {
           "angularaxis": {
            "gridcolor": "white",
            "linecolor": "white",
            "ticks": ""
           },
           "bgcolor": "#E5ECF6",
           "radialaxis": {
            "gridcolor": "white",
            "linecolor": "white",
            "ticks": ""
           }
          },
          "scene": {
           "xaxis": {
            "backgroundcolor": "#E5ECF6",
            "gridcolor": "white",
            "gridwidth": 2,
            "linecolor": "white",
            "showbackground": true,
            "ticks": "",
            "zerolinecolor": "white"
           },
           "yaxis": {
            "backgroundcolor": "#E5ECF6",
            "gridcolor": "white",
            "gridwidth": 2,
            "linecolor": "white",
            "showbackground": true,
            "ticks": "",
            "zerolinecolor": "white"
           },
           "zaxis": {
            "backgroundcolor": "#E5ECF6",
            "gridcolor": "white",
            "gridwidth": 2,
            "linecolor": "white",
            "showbackground": true,
            "ticks": "",
            "zerolinecolor": "white"
           }
          },
          "shapedefaults": {
           "line": {
            "color": "#2a3f5f"
           }
          },
          "ternary": {
           "aaxis": {
            "gridcolor": "white",
            "linecolor": "white",
            "ticks": ""
           },
           "baxis": {
            "gridcolor": "white",
            "linecolor": "white",
            "ticks": ""
           },
           "bgcolor": "#E5ECF6",
           "caxis": {
            "gridcolor": "white",
            "linecolor": "white",
            "ticks": ""
           }
          },
          "title": {
           "x": 0.05
          },
          "xaxis": {
           "automargin": true,
           "gridcolor": "white",
           "linecolor": "white",
           "ticks": "",
           "title": {
            "standoff": 15
           },
           "zerolinecolor": "white",
           "zerolinewidth": 2
          },
          "yaxis": {
           "automargin": true,
           "gridcolor": "white",
           "linecolor": "white",
           "ticks": "",
           "title": {
            "standoff": 15
           },
           "zerolinecolor": "white",
           "zerolinewidth": 2
          }
         }
        },
        "width": 600,
        "xaxis": {
         "title": {
          "text": "x"
         }
        },
        "yaxis": {
         "title": {
          "text": "y"
         }
        }
       }
      }
     },
     "metadata": {},
     "output_type": "display_data"
    }
   ],
   "source": [
    "# plotter.plot_tracks(smoothed_track, [0, 2], particle=True, uncertainty=True)\n",
    "plotter.plot_tracks(track, [0, 2], particle=True, uncertainty=True)\n",
    "plotter.fig"
   ]
  },
  {
   "cell_type": "markdown",
   "id": "115c225b-b4fa-481a-9929-89b6168b454c",
   "metadata": {},
   "source": [
    "## References\n",
    "[1] Lemke, Tatjana, and Simon J. Godsill, 'Inference for models with asymmetric α -stable noise processes', in Siem Jan Koopman, and Neil Shephard (eds), Unobserved Components and Time Series Econometrics (Oxford, 2015; online edn, Oxford Academic, 21 Jan. 2016)\n",
    "\n",
    "[2] S. Godsill, M. Riabiz, and I. Kontoyiannis, “The L ́evy state space model,” in 2019 53rd Asilomar Conference on Signals, Systems, and Computers, 2019, pp. 487–494.\n",
    "\n",
    "[3] Fredrik Lindsten, Pete Bunch, Simo S¨arkk¨a, Thomas B. Sch¨on, and Simon J. Godsill, \"Rao-Blackwellized particle smoothers for conditionally linear Gaussian models\" in International Conference on Acoustics, Speech, and Signal Processing, 1988. ICASSP-88., 1988 \n",
    "\n",
    "\n"
   ]
  }
 ],
 "metadata": {
  "kernelspec": {
   "display_name": "stonesoup_env",
   "language": "python",
   "name": "python3"
  },
  "language_info": {
   "codemirror_mode": {
    "name": "ipython",
    "version": 3
   },
   "file_extension": ".py",
   "mimetype": "text/x-python",
   "name": "python",
   "nbconvert_exporter": "python",
   "pygments_lexer": "ipython3",
   "version": "3.12.7"
  }
 },
 "nbformat": 4,
 "nbformat_minor": 5
}
